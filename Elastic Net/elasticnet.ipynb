{
 "cells": [
  {
   "cell_type": "markdown",
   "id": "d3de3b42-8f8d-4362-aa43-32c52ab903b6",
   "metadata": {},
   "source": [
    "# ELASTIC NET REGRESSION"
   ]
  },
  {
   "cell_type": "code",
   "execution_count": 26,
   "id": "45274af3-3b93-474c-a5cf-f4771444a98c",
   "metadata": {},
   "outputs": [],
   "source": [
    "import numpy as np\n",
    "import pandas as pd\n",
    "import matplotlib.pyplot as plt\n",
    "from sklearn.linear_model import LinearRegression,Ridge,Lasso,ElasticNet\n",
    "from sklearn.metrics import r2_score"
   ]
  },
  {
   "cell_type": "code",
   "execution_count": 27,
   "id": "59368aa3-bf5d-44a7-911b-8343f9c5a695",
   "metadata": {},
   "outputs": [],
   "source": [
    "from sklearn.datasets import load_diabetes\n",
    "X,Y=load_diabetes(return_X_y= True)"
   ]
  },
  {
   "cell_type": "code",
   "execution_count": 28,
   "id": "148a0563-509c-4752-88e3-50c2b681f45c",
   "metadata": {},
   "outputs": [],
   "source": [
    "from sklearn.model_selection import train_test_split\n",
    "X_train, X_test, Y_train, Y_test= train_test_split(X,Y,test_size=0.2, random_state=2)"
   ]
  },
  {
   "cell_type": "code",
   "execution_count": 39,
   "id": "3eef9faa-4d79-4df8-a79d-84536888bf0f",
   "metadata": {},
   "outputs": [
    {
     "data": {
      "text/plain": [
       "0.4399338661568968"
      ]
     },
     "execution_count": 39,
     "metadata": {},
     "output_type": "execute_result"
    }
   ],
   "source": [
    "#Linear Regression Model\n",
    "reg=LinearRegression()\n",
    "reg.fit(X_train, Y_train)\n",
    "Y_predict=reg.predict(X_test)\n",
    "r2_score(Y_test, Y_predict)"
   ]
  },
  {
   "cell_type": "code",
   "execution_count": 41,
   "id": "7ef877e9-9123-48e1-b2a2-69f381fa1148",
   "metadata": {},
   "outputs": [
    {
     "data": {
      "text/plain": [
       "0.4439392894728016"
      ]
     },
     "execution_count": 41,
     "metadata": {},
     "output_type": "execute_result"
    }
   ],
   "source": [
    "#Ridge Regression Model\n",
    "R=Ridge(alpha=0.01)\n",
    "R.fit(X_train,Y_train)\n",
    "Y_predict=R.predict(X_test)\n",
    "r2_score(Y_test, Y_predict)"
   ]
  },
  {
   "cell_type": "code",
   "execution_count": 42,
   "id": "11b255fd-7d66-49bf-81af-5474b898cf5b",
   "metadata": {},
   "outputs": [
    {
     "data": {
      "text/plain": [
       "0.44111855963110613"
      ]
     },
     "execution_count": 42,
     "metadata": {},
     "output_type": "execute_result"
    }
   ],
   "source": [
    "#Lasso Regression Model\n",
    "L=Lasso(alpha=0.01)\n",
    "L.fit(X_train,Y_train)\n",
    "Y_predict1=L.predict(X_test)\n",
    "r2_score(Y_test, Y_predict1)"
   ]
  },
  {
   "cell_type": "code",
   "execution_count": null,
   "id": "d89842e3-7b89-4210-82a2-524a9cbbfbff",
   "metadata": {},
   "outputs": [],
   "source": [
    "#Elastic Net Regression Model\n",
    "enet=ElasticNet(alpha=0.001,l1_ratio=0.9)\n",
    "enet.fit(X_train,Y_train)\n",
    "Y_predict1=enet.predict(X_test)\n",
    "r2_score(Y_test, Y_predict)"
   ]
  }
 ],
 "metadata": {
  "kernelspec": {
   "display_name": "Python 3 (ipykernel)",
   "language": "python",
   "name": "python3"
  },
  "language_info": {
   "codemirror_mode": {
    "name": "ipython",
    "version": 3
   },
   "file_extension": ".py",
   "mimetype": "text/x-python",
   "name": "python",
   "nbconvert_exporter": "python",
   "pygments_lexer": "ipython3",
   "version": "3.12.4"
  }
 },
 "nbformat": 4,
 "nbformat_minor": 5
}
